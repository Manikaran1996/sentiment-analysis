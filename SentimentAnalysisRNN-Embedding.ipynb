{
 "cells": [
  {
   "cell_type": "code",
   "execution_count": 2,
   "metadata": {},
   "outputs": [
    {
     "name": "stderr",
     "output_type": "stream",
     "text": [
      "Using TensorFlow backend.\n"
     ]
    }
   ],
   "source": [
    "import pandas as pd\n",
    "from keras.layers import LSTM, Dense, Embedding\n",
    "from keras.optimizers import Adam\n",
    "from keras.preprocessing.text import text_to_word_sequence, Tokenizer\n",
    "from keras.preprocessing.sequence import pad_sequences\n",
    "from keras import Sequential\n",
    "import numpy as np\n",
    "from keras.utils import np_utils\n",
    "from keras.datasets import imdb"
   ]
  },
  {
   "cell_type": "code",
   "execution_count": 3,
   "metadata": {},
   "outputs": [],
   "source": [
    "vocab_size = 5000\n",
    "(trainX, trainY), (testX, testY) = imdb.load_data(num_words=vocab_size)"
   ]
  },
  {
   "cell_type": "code",
   "execution_count": 4,
   "metadata": {},
   "outputs": [
    {
     "data": {
      "text/plain": [
       "(25000,)"
      ]
     },
     "execution_count": 4,
     "metadata": {},
     "output_type": "execute_result"
    }
   ],
   "source": [
    "trainX.shape"
   ]
  },
  {
   "cell_type": "code",
   "execution_count": 5,
   "metadata": {},
   "outputs": [
    {
     "data": {
      "text/plain": [
       "(25000,)"
      ]
     },
     "execution_count": 5,
     "metadata": {},
     "output_type": "execute_result"
    }
   ],
   "source": [
    "trainY.shape"
   ]
  },
  {
   "cell_type": "code",
   "execution_count": 6,
   "metadata": {},
   "outputs": [
    {
     "data": {
      "text/plain": [
       "(25000,)"
      ]
     },
     "execution_count": 6,
     "metadata": {},
     "output_type": "execute_result"
    }
   ],
   "source": [
    "testX.shape"
   ]
  },
  {
   "cell_type": "code",
   "execution_count": 7,
   "metadata": {},
   "outputs": [
    {
     "data": {
      "text/plain": [
       "(25000,)"
      ]
     },
     "execution_count": 7,
     "metadata": {},
     "output_type": "execute_result"
    }
   ],
   "source": [
    "testY.shape"
   ]
  },
  {
   "cell_type": "code",
   "execution_count": 8,
   "metadata": {},
   "outputs": [],
   "source": [
    "embedding_dim = 32"
   ]
  },
  {
   "cell_type": "code",
   "execution_count": 9,
   "metadata": {},
   "outputs": [
    {
     "data": {
      "text/plain": [
       "2697"
      ]
     },
     "execution_count": 9,
     "metadata": {},
     "output_type": "execute_result"
    }
   ],
   "source": [
    "max_length = max([len(x) for x in trainX + testX])\n",
    "max_length"
   ]
  },
  {
   "cell_type": "code",
   "execution_count": 11,
   "metadata": {},
   "outputs": [],
   "source": [
    "max_sequence_length = 500"
   ]
  },
  {
   "cell_type": "code",
   "execution_count": 12,
   "metadata": {},
   "outputs": [
    {
     "data": {
      "text/plain": [
       "5000"
      ]
     },
     "execution_count": 12,
     "metadata": {},
     "output_type": "execute_result"
    }
   ],
   "source": [
    "number_of_words = max([max(x) for x in trainX + testX]) + 1\n",
    "number_of_words"
   ]
  },
  {
   "cell_type": "code",
   "execution_count": 13,
   "metadata": {},
   "outputs": [],
   "source": [
    "train_sequences = pad_sequences(sequences=trainX, maxlen=max_sequence_length, padding='post')"
   ]
  },
  {
   "cell_type": "code",
   "execution_count": 14,
   "metadata": {},
   "outputs": [],
   "source": [
    "test_sequences = pad_sequences(sequences=testX, maxlen=max_sequence_length, padding='post')"
   ]
  },
  {
   "cell_type": "code",
   "execution_count": 15,
   "metadata": {},
   "outputs": [],
   "source": [
    "train_label_one_hot = np_utils.to_categorical(np.array(trainY))\n",
    "test_label_one_hot = np_utils.to_categorical(np.array(testY))"
   ]
  },
  {
   "cell_type": "code",
   "execution_count": 16,
   "metadata": {},
   "outputs": [
    {
     "data": {
      "text/plain": [
       "2"
      ]
     },
     "execution_count": 16,
     "metadata": {},
     "output_type": "execute_result"
    }
   ],
   "source": [
    "len(train_label_one_hot[0])"
   ]
  },
  {
   "cell_type": "code",
   "execution_count": 17,
   "metadata": {},
   "outputs": [],
   "source": [
    "model = Sequential()\n",
    "model.add(Embedding(vocab_size, embedding_dim, input_length=max_sequence_length))\n",
    "model.add(LSTM(units=50,dropout=0.2, recurrent_dropout=0.2))\n",
    "model.add(Dense(1, activation='sigmoid'))\n",
    "model.compile(loss='binary_crossentropy', optimizer='adam', metrics=['accuracy'])"
   ]
  },
  {
   "cell_type": "code",
   "execution_count": 18,
   "metadata": {},
   "outputs": [
    {
     "name": "stdout",
     "output_type": "stream",
     "text": [
      "Epoch 1/20\n",
      "25000/25000 [==============================] - 172s 7ms/step - loss: 0.6931 - acc: 0.4955\n",
      "Epoch 2/20\n",
      "25000/25000 [==============================] - 169s 7ms/step - loss: 0.6899 - acc: 0.5108\n",
      "Epoch 3/20\n",
      "25000/25000 [==============================] - 170s 7ms/step - loss: 0.6792 - acc: 0.5235\n",
      "Epoch 4/20\n",
      "25000/25000 [==============================] - 170s 7ms/step - loss: 0.6688 - acc: 0.5325\n",
      "Epoch 5/20\n",
      "25000/25000 [==============================] - 170s 7ms/step - loss: 0.6593 - acc: 0.5285\n",
      "Epoch 6/20\n",
      "25000/25000 [==============================] - 170s 7ms/step - loss: 0.6591 - acc: 0.5375\n",
      "Epoch 7/20\n",
      "25000/25000 [==============================] - 170s 7ms/step - loss: 0.6476 - acc: 0.5457\n",
      "Epoch 8/20\n",
      "25000/25000 [==============================] - 183s 7ms/step - loss: 0.6470 - acc: 0.5381\n",
      "Epoch 9/20\n",
      "25000/25000 [==============================] - 201s 8ms/step - loss: 0.6416 - acc: 0.5468\n",
      "Epoch 10/20\n",
      "25000/25000 [==============================] - 183s 7ms/step - loss: 0.6444 - acc: 0.5459\n",
      "Epoch 11/20\n",
      "25000/25000 [==============================] - 196s 8ms/step - loss: 0.6394 - acc: 0.5442\n",
      "Epoch 12/20\n",
      "25000/25000 [==============================] - 196s 8ms/step - loss: 0.6395 - acc: 0.5447\n",
      "Epoch 13/20\n",
      "25000/25000 [==============================] - 201s 8ms/step - loss: 0.6365 - acc: 0.5418\n",
      "Epoch 14/20\n",
      "25000/25000 [==============================] - 188s 8ms/step - loss: 0.6343 - acc: 0.5458\n",
      "Epoch 15/20\n",
      "25000/25000 [==============================] - 233s 9ms/step - loss: 0.6295 - acc: 0.5774\n",
      "Epoch 16/20\n",
      "25000/25000 [==============================] - 215s 9ms/step - loss: 0.6217 - acc: 0.6093\n",
      "Epoch 17/20\n",
      "25000/25000 [==============================] - 193s 8ms/step - loss: 0.6233 - acc: 0.6636\n",
      "Epoch 18/20\n",
      "25000/25000 [==============================] - 203s 8ms/step - loss: 0.5095 - acc: 0.7767\n",
      "Epoch 19/20\n",
      "25000/25000 [==============================] - 181s 7ms/step - loss: 0.4793 - acc: 0.7971\n",
      "Epoch 20/20\n",
      "25000/25000 [==============================] - 188s 8ms/step - loss: 0.4333 - acc: 0.8234\n"
     ]
    },
    {
     "data": {
      "text/plain": [
       "<keras.callbacks.History at 0x7f17a34ef898>"
      ]
     },
     "execution_count": 18,
     "metadata": {},
     "output_type": "execute_result"
    }
   ],
   "source": [
    "model.fit(x=train_sequences, y=trainY, epochs=20, batch_size=128, initial_epoch=0)"
   ]
  },
  {
   "cell_type": "code",
   "execution_count": 19,
   "metadata": {},
   "outputs": [],
   "source": [
    "from keras.callbacks import ModelCheckpoint"
   ]
  },
  {
   "cell_type": "code",
   "execution_count": 20,
   "metadata": {},
   "outputs": [],
   "source": [
    "chkpoint = ModelCheckpoint('weights-{epoch:02d}-{val_loss:.2f}.hdf5', verbose=1)"
   ]
  },
  {
   "cell_type": "code",
   "execution_count": 22,
   "metadata": {},
   "outputs": [
    {
     "name": "stdout",
     "output_type": "stream",
     "text": [
      "Train on 25000 samples, validate on 25000 samples\n",
      "Epoch 21/25\n",
      "25000/25000 [==============================] - 259s 10ms/step - loss: 0.3857 - acc: 0.8462 - val_loss: 0.4297 - val_acc: 0.8332\n",
      "\n",
      "Epoch 00021: saving model to weights-21-0.43.hdf5\n",
      "Epoch 22/25\n",
      "25000/25000 [==============================] - 228s 9ms/step - loss: 0.3567 - acc: 0.8602 - val_loss: 0.4035 - val_acc: 0.8446\n",
      "\n",
      "Epoch 00022: saving model to weights-22-0.40.hdf5\n",
      "Epoch 23/25\n",
      "25000/25000 [==============================] - 230s 9ms/step - loss: 0.3469 - acc: 0.8644 - val_loss: 0.3882 - val_acc: 0.8522\n",
      "\n",
      "Epoch 00023: saving model to weights-23-0.39.hdf5\n",
      "Epoch 24/25\n",
      "25000/25000 [==============================] - 229s 9ms/step - loss: 0.3227 - acc: 0.8759 - val_loss: 0.3930 - val_acc: 0.8524\n",
      "\n",
      "Epoch 00024: saving model to weights-24-0.39.hdf5\n",
      "Epoch 25/25\n",
      "25000/25000 [==============================] - 234s 9ms/step - loss: 0.3026 - acc: 0.8832 - val_loss: 0.3660 - val_acc: 0.8565\n",
      "\n",
      "Epoch 00025: saving model to weights-25-0.37.hdf5\n"
     ]
    },
    {
     "data": {
      "text/plain": [
       "<keras.callbacks.History at 0x7f179f217ba8>"
      ]
     },
     "execution_count": 22,
     "metadata": {},
     "output_type": "execute_result"
    }
   ],
   "source": [
    "model.fit(x=train_sequences, y=trainY, epochs=25, batch_size=128, callbacks=[chkpoint], validation_data=(test_sequences, testY), initial_epoch=20)"
   ]
  },
  {
   "cell_type": "code",
   "execution_count": 23,
   "metadata": {},
   "outputs": [
    {
     "name": "stdout",
     "output_type": "stream",
     "text": [
      "Train on 25000 samples, validate on 25000 samples\n",
      "Epoch 26/30\n",
      "25000/25000 [==============================] - 236s 9ms/step - loss: 0.3029 - acc: 0.8841 - val_loss: 0.3990 - val_acc: 0.8535\n",
      "\n",
      "Epoch 00026: saving model to weights-26-0.40.hdf5\n",
      "Epoch 27/30\n",
      "25000/25000 [==============================] - 234s 9ms/step - loss: 0.2780 - acc: 0.8982 - val_loss: 0.3617 - val_acc: 0.8644\n",
      "\n",
      "Epoch 00027: saving model to weights-27-0.36.hdf5\n",
      "Epoch 28/30\n",
      "25000/25000 [==============================] - 234s 9ms/step - loss: 0.2662 - acc: 0.9024 - val_loss: 0.3613 - val_acc: 0.8580\n",
      "\n",
      "Epoch 00028: saving model to weights-28-0.36.hdf5\n",
      "Epoch 29/30\n",
      "25000/25000 [==============================] - 243s 10ms/step - loss: 0.2561 - acc: 0.9050 - val_loss: 0.3594 - val_acc: 0.8668\n",
      "\n",
      "Epoch 00029: saving model to weights-29-0.36.hdf5\n",
      "Epoch 30/30\n",
      "25000/25000 [==============================] - 239s 10ms/step - loss: 0.2444 - acc: 0.9099 - val_loss: 0.3454 - val_acc: 0.8638\n",
      "\n",
      "Epoch 00030: saving model to weights-30-0.35.hdf5\n"
     ]
    },
    {
     "data": {
      "text/plain": [
       "<keras.callbacks.History at 0x7f179f28edd8>"
      ]
     },
     "execution_count": 23,
     "metadata": {},
     "output_type": "execute_result"
    }
   ],
   "source": [
    "model.fit(x=train_sequences, y=trainY, epochs=30, batch_size=128, callbacks=[chkpoint], validation_data=(test_sequences, testY), initial_epoch=25)"
   ]
  },
  {
   "cell_type": "code",
   "execution_count": 24,
   "metadata": {},
   "outputs": [
    {
     "name": "stdout",
     "output_type": "stream",
     "text": [
      "Train on 25000 samples, validate on 25000 samples\n",
      "Epoch 31/40\n",
      "25000/25000 [==============================] - 228s 9ms/step - loss: 0.2418 - acc: 0.9112 - val_loss: 0.3493 - val_acc: 0.8682\n",
      "\n",
      "Epoch 00031: saving model to weights-31-0.35.hdf5\n",
      "Epoch 32/40\n",
      "25000/25000 [==============================] - 225s 9ms/step - loss: 0.2305 - acc: 0.9168 - val_loss: 0.3437 - val_acc: 0.8733\n",
      "\n",
      "Epoch 00032: saving model to weights-32-0.34.hdf5\n",
      "Epoch 33/40\n",
      "25000/25000 [==============================] - 226s 9ms/step - loss: 0.2260 - acc: 0.9176 - val_loss: 0.3458 - val_acc: 0.8727\n",
      "\n",
      "Epoch 00033: saving model to weights-33-0.35.hdf5\n",
      "Epoch 34/40\n",
      "25000/25000 [==============================] - 227s 9ms/step - loss: 0.2135 - acc: 0.9232 - val_loss: 0.3524 - val_acc: 0.8706\n",
      "\n",
      "Epoch 00034: saving model to weights-34-0.35.hdf5\n",
      "Epoch 35/40\n",
      "25000/25000 [==============================] - 226s 9ms/step - loss: 0.2097 - acc: 0.9244 - val_loss: 0.3598 - val_acc: 0.8546\n",
      "\n",
      "Epoch 00035: saving model to weights-35-0.36.hdf5\n",
      "Epoch 36/40\n",
      "25000/25000 [==============================] - 226s 9ms/step - loss: 0.1987 - acc: 0.9305 - val_loss: 0.3542 - val_acc: 0.8752\n",
      "\n",
      "Epoch 00036: saving model to weights-36-0.35.hdf5\n",
      "Epoch 37/40\n",
      "25000/25000 [==============================] - 226s 9ms/step - loss: 0.2127 - acc: 0.9229 - val_loss: 0.3558 - val_acc: 0.8742\n",
      "\n",
      "Epoch 00037: saving model to weights-37-0.36.hdf5\n",
      "Epoch 38/40\n",
      "25000/25000 [==============================] - 226s 9ms/step - loss: 0.1857 - acc: 0.9358 - val_loss: 0.3397 - val_acc: 0.8797\n",
      "\n",
      "Epoch 00038: saving model to weights-38-0.34.hdf5\n",
      "Epoch 39/40\n",
      "25000/25000 [==============================] - 226s 9ms/step - loss: 0.1797 - acc: 0.9397 - val_loss: 0.3363 - val_acc: 0.8780\n",
      "\n",
      "Epoch 00039: saving model to weights-39-0.34.hdf5\n",
      "Epoch 40/40\n",
      "25000/25000 [==============================] - 226s 9ms/step - loss: 0.1709 - acc: 0.9413 - val_loss: 0.3532 - val_acc: 0.8760\n",
      "\n",
      "Epoch 00040: saving model to weights-40-0.35.hdf5\n"
     ]
    },
    {
     "data": {
      "text/plain": [
       "<keras.callbacks.History at 0x7f179cca19e8>"
      ]
     },
     "execution_count": 24,
     "metadata": {},
     "output_type": "execute_result"
    }
   ],
   "source": [
    "model.fit(x=train_sequences, y=trainY, epochs=40, batch_size=128, callbacks=[chkpoint], validation_data=(test_sequences, testY), initial_epoch=30)"
   ]
  },
  {
   "cell_type": "code",
   "execution_count": null,
   "metadata": {},
   "outputs": [],
   "source": []
  }
 ],
 "metadata": {
  "kernelspec": {
   "display_name": "Python 3",
   "language": "python",
   "name": "python3"
  },
  "language_info": {
   "codemirror_mode": {
    "name": "ipython",
    "version": 3
   },
   "file_extension": ".py",
   "mimetype": "text/x-python",
   "name": "python",
   "nbconvert_exporter": "python",
   "pygments_lexer": "ipython3",
   "version": "3.6.5"
  }
 },
 "nbformat": 4,
 "nbformat_minor": 2
}
